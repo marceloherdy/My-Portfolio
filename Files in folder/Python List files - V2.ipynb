{
 "cells": [
  {
   "cell_type": "markdown",
   "metadata": {},
   "source": [
    "# Importing needed libraries"
   ]
  },
  {
   "cell_type": "code",
   "execution_count": null,
   "metadata": {},
   "outputs": [],
   "source": [
    "import os, time\n",
    "import pandas as pd\n",
    "from datetime import datetime \n",
    "from stat import ST_SIZE, ST_MTIME"
   ]
  },
  {
   "cell_type": "markdown",
   "metadata": {},
   "source": [
    "# Defining Paths "
   ]
  },
  {
   "cell_type": "code",
   "execution_count": null,
   "metadata": {
    "tags": []
   },
   "outputs": [],
   "source": [
    "# Define the path to the folder to be analyzed\n",
    "path = 'C:\\\\temp\\\\Instagram'\n",
    "path_raiz = os.getcwd()\n",
    "output_file = 'lista_de_arquivos.txt'"
   ]
  },
  {
   "cell_type": "markdown",
   "metadata": {},
   "source": [
    "# Creating auxiliary variables"
   ]
  },
  {
   "cell_type": "code",
   "execution_count": null,
   "metadata": {},
   "outputs": [],
   "source": [
    "# Listing first level paths\n",
    "pastas = os.listdir(path)\n",
    "total = 0\n",
    "\n",
    "# Create auxiliary lists \n",
    "lista_arquivos = list()\n",
    "erros = list()"
   ]
  },
  {
   "cell_type": "markdown",
   "metadata": {},
   "source": [
    "# Defining Functions"
   ]
  },
  {
   "cell_type": "code",
   "execution_count": null,
   "metadata": {},
   "outputs": [],
   "source": [
    "def busca_info_arquivo(file_path):\n",
    "    \"\"\"\n",
    "    Retrieve file size and creation date from the given file path.\n",
    "    \"\"\"\n",
    "    # Getting file information\n",
    "    st = os.stat(file_path) \n",
    "    # Converting dates\n",
    "    dt_cr = time.asctime(time.localtime(st[ST_MTIME]))\n",
    "    data_converte = datetime.strptime(dt_cr, '%a %b %d %H:%M:%S %Y')\n",
    "    data_criacao = data_converte.date()\n",
    "    tamanho = st[ST_SIZE] / 1024 / 1024\n",
    "\n",
    "    return tamanho, data_criacao\n",
    "\n",
    "def listar_pasta(pasta):\n",
    "    \"\"\"\n",
    "    Recursively list files in the specified directory and its subdirectories.\n",
    "    \"\"\"\n",
    "    tot = 0\n",
    "    if os.path.isdir(os.path.join(path, pasta)):\n",
    "        items = os.listdir(os.path.join(path, pasta))\n",
    "        for item in items:\n",
    "            novo_item = os.path.join(path, pasta, item)\n",
    "            # Check if item is a directory. If yes, append to path list\n",
    "            if os.path.isdir(novo_item):\n",
    "                pastas.append(novo_item)\n",
    "                continue\n",
    "            fullpath = os.path.join(path, pasta, novo_item)\n",
    "            tamanho, data_criacao = busca_info_arquivo(fullpath)\n",
    "            # Create string to append in the list\n",
    "            item_lista = (os.path.join(path, pasta), item, tamanho, data_criacao)\n",
    "            lista_arquivos.append(item_lista)\n",
    "            # Update counter\n",
    "            tot += 1\n",
    "    else:\n",
    "        novo_item = os.path.join(path, pasta)\n",
    "        tamanho, data_criacao = busca_info_arquivo(novo_item)\n",
    "        # Create string to append in the list\n",
    "        item_lista = (path, pasta, tamanho, data_criacao)\n",
    "        lista_arquivos.append(item_lista)\n",
    "        \n",
    "        # Update counter\n",
    "        tot += 1\n",
    "\n",
    "    return tot"
   ]
  },
  {
   "cell_type": "markdown",
   "metadata": {},
   "source": [
    "# Creating Main function"
   ]
  },
  {
   "cell_type": "code",
   "execution_count": null,
   "metadata": {},
   "outputs": [],
   "source": [
    "# Main function to analyze the directory and its subdirectories\n",
    "if __name__ == '__main__':\n",
    "\n",
    "    for pasta in pastas:\n",
    "        # Updating counter\n",
    "        try:\n",
    "            total += listar_pasta(pasta)\n",
    "        # Handling large addresses not supported by Windows\n",
    "        except:\n",
    "            erros.append(pasta)\n",
    "    print(\"Total de arquivos encontrados: \", total)"
   ]
  },
  {
   "cell_type": "markdown",
   "metadata": {},
   "source": [
    "# Checking"
   ]
  },
  {
   "cell_type": "code",
   "execution_count": null,
   "metadata": {
    "tags": []
   },
   "outputs": [],
   "source": [
    "# Print a sample of the file list\n",
    "print('Files')\n",
    "for item in lista_arquivos[0:10]:\n",
    "    print(item)\n",
    "\n",
    "# Print a sample of errors list\n",
    "print('\\nErros\\n')\n",
    "for item in erros[0:10]:\n",
    "    print(item)"
   ]
  },
  {
   "cell_type": "markdown",
   "metadata": {},
   "source": [
    "# Creating Dataframe"
   ]
  },
  {
   "cell_type": "code",
   "execution_count": null,
   "metadata": {},
   "outputs": [],
   "source": [
    "# Convert list to a Pandas Dataframe\n",
    "\n",
    "# Colunm names\n",
    "indice = ('pasta', 'arquivo', 'tamanho', 'data_criacao')\n",
    "\n",
    "df = pd.DataFrame(lista_arquivos, columns = indice)\n",
    "df = df.sort_values(['pasta', 'arquivo'])\n",
    "df.head()"
   ]
  },
  {
   "cell_type": "markdown",
   "metadata": {},
   "source": [
    "# Exportng CSV"
   ]
  },
  {
   "cell_type": "code",
   "execution_count": null,
   "metadata": {},
   "outputs": [],
   "source": [
    "# Save the DataFrame to a CSV file\n",
    "dt_temp = time.localtime() \n",
    "dt_hoje = str(dt_temp.tm_year) + str(dt_temp.tm_mon).zfill(2) + str(dt_temp.tm_mday)\n",
    "nome_arquivo = path_raiz + '//df_arquivos_'+ dt_hoje + '.csv'\n",
    "\n",
    "df.to_csv(nome_arquivo, encoding='latin-1', sep=';', decimal=',', index = False) "
   ]
  }
 ],
 "metadata": {
  "interpreter": {
   "hash": "41bb60bb42da48d7f108d42bd93d85970206ffaffb59c5c6d1cbe68e53a0f263"
  },
  "kernelspec": {
   "display_name": "Python 3",
   "language": "python",
   "name": "python3"
  },
  "language_info": {
   "codemirror_mode": {
    "name": "ipython",
    "version": 3
   },
   "file_extension": ".py",
   "mimetype": "text/x-python",
   "name": "python",
   "nbconvert_exporter": "python",
   "pygments_lexer": "ipython3",
   "version": "3.8.5"
  }
 },
 "nbformat": 4,
 "nbformat_minor": 2
}
