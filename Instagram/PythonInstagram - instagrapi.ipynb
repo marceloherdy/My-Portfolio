{
 "cells": [
  {
   "cell_type": "markdown",
   "metadata": {},
   "source": [
    "# Integration for Instagram in Python\n",
    "\n",
    "This script was created to automate some activities inherent to page maintenance on Instagram. \n",
    "Among these activities are unfollowing a follower without interaction and sending a welcome message to new followers.\n",
    "For this, followers, followings, posts, likes and comments are extracted from Instagram and stored in an SQLite database."
   ]
  },
  {
   "cell_type": "markdown",
   "metadata": {
    "tags": [
     "parameters"
    ]
   },
   "source": [
    "# Imports and setups"
   ]
  },
  {
   "cell_type": "code",
   "execution_count": null,
   "metadata": {},
   "outputs": [],
   "source": [
    "# General Importing\n",
    "import pandas as pd\n",
    "from pandas.io.json import json_normalize \n",
    "import os, time, sys, csv, glob\n",
    "from datetime import datetime, timedelta, timezone\n",
    "from random import randint\n",
    "from IPython.core.interactiveshell import InteractiveShell\n",
    "\n",
    "# Importing instagrapi\n",
    "from instagrapi import Client \n",
    "\n",
    "# Importing libraries for database\n",
    "import sqlite3 #https://appdividend.com/2020/10/14/how-to-create-sqlite-database-in-python/\n",
    "import sqlalchemy as db #https://appdividend.com/2020/10/15/how-to-use-sqlalchemy-core-with-sqlite-in-python/\n",
    "\n",
    "# Importing own functions\n",
    "import functions_insta as fi\n",
    "import functios_sqlite as lite\n",
    "\n",
    "# Basic setup in Jupyter \n",
    "InteractiveShell.ast_node_interactivity = \"all\"\n",
    "\n",
    "# Ignore warnings\n",
    "import warnings\n",
    "warnings.filterwarnings(\"ignore\")\n",
    "\n",
    "# Basic setup for graphics and other output\n",
    "pd.options.display.max_columns = 500"
   ]
  },
  {
   "cell_type": "markdown",
   "metadata": {
    "tags": [
     "parameters"
    ]
   },
   "source": [
    "# Creating required tables in SQLite\n",
    "\n",
    "Run this cell only when you want to recreate the tables. THE TABLES WILL BE DROPPED ! ! !"
   ]
  },
  {
   "cell_type": "code",
   "execution_count": null,
   "metadata": {},
   "outputs": [],
   "source": [
    "# lite.cria_tbl_followers()\n",
    "\n",
    "# lite.cria_tbl_followings()\n",
    "\n",
    "# lite.cria_tbl_posts()\n",
    "\n",
    "# lite.cria_tbl_likes()\n",
    "\n",
    "# lite.cria_tbl_comments()\n",
    "\n",
    "# lite.cria_tbl_convites_instagrow()"
   ]
  },
  {
   "cell_type": "markdown",
   "metadata": {},
   "source": [
    "# Defining variables"
   ]
  },
  {
   "cell_type": "code",
   "execution_count": null,
   "metadata": {},
   "outputs": [],
   "source": [
    "conta = '12345678901' # Instagram account\n",
    "usr='your_user' # Instagram User\n",
    "psw='your_password' # Instagram Password\n",
    "\n",
    "# List of my users who follow Instagram profile\n",
    "nossos_usernames = ['profile1', '...' , 'profilen'] \n",
    "\n",
    "# List of users that I will not unfollow\n",
    "nao_excluir = ['profile1', '...', 'profilen'] \n",
    "\n",
    "# Defining time periods for analysis and locations to save files\n",
    "path_raiz = os.getcwd()\n",
    "print(path_raiz) \n",
    "data_hora_atual = str(datetime.today()).replace(\":\",\"\").replace(\".\",\"\")[:17]\n",
    "print(data_hora_atual)\n",
    "dias_para_extrair = 115\n",
    "data_de_corte = datetime.today() - timedelta(days=dias_para_extrair) \n",
    "print('data_de_corte:', data_de_corte) \n",
    "\n",
    "dt_temp = time.localtime() \n",
    "dt_hoje = str(dt_temp.tm_year) + str(dt_temp.tm_mon).zfill(2) + str(dt_temp.tm_mday).zfill(2)\n",
    "print('dt_hoje:', dt_hoje) "
   ]
  },
  {
   "cell_type": "markdown",
   "metadata": {},
   "source": [
    "# Log in to Instagram\n",
    "\n",
    "Log in prepared for MFA."
   ]
  },
  {
   "cell_type": "code",
   "execution_count": null,
   "metadata": {},
   "outputs": [],
   "source": [
    "fi.aux_login_instagrapi(usr, psw) #https://adw0rd.github.io/instagrapi/usage-guide/interactions.html"
   ]
  },
  {
   "cell_type": "markdown",
   "metadata": {},
   "source": [
    "# Extracting followings"
   ]
  },
  {
   "cell_type": "code",
   "execution_count": null,
   "metadata": {},
   "outputs": [],
   "source": [
    "df_followings = fi.extrai_followings_instagrapi(path_raiz, conta)\n",
    "\n",
    "len(df_followings)\n",
    "df_followings.head()"
   ]
  },
  {
   "cell_type": "markdown",
   "metadata": {},
   "source": [
    "# Import followings from csv file\n",
    "\n",
    "Uncomment and execute this cell only when you prefer to import a previously generated followings file instead of extracting it again from Instagram."
   ]
  },
  {
   "cell_type": "code",
   "execution_count": null,
   "metadata": {},
   "outputs": [],
   "source": [
    "'''\n",
    "df_followings = pd.read_csv(path_raiz + 'your_historic_file.csv', sep=';') \n",
    "df_followings.drop(['Unnamed: 0'], axis=1, inplace = True) \n",
    "df_followings.head()\n",
    "'''"
   ]
  },
  {
   "cell_type": "markdown",
   "metadata": {},
   "source": [
    "# Extracting followers"
   ]
  },
  {
   "cell_type": "code",
   "execution_count": null,
   "metadata": {},
   "outputs": [],
   "source": [
    "# Extract followers and create dataframe\n",
    "df_followers = fi.extrai_followers_instagrapi(path_raiz, conta)\n",
    "\n",
    "len(df_followers)\n",
    "df_followers.head()\n",
    "\n",
    "data_atualizacao = dt_hoje[0:4] + '-'+ dt_hoje[4:6] + '-'+ dt_hoje[6:8]\n",
    "print(data_atualizacao) \n",
    "\n",
    "# Update table followers in SQLite\n",
    "lite.atualiza_followers(df_followers, data_atualizacao)"
   ]
  },
  {
   "cell_type": "markdown",
   "metadata": {},
   "source": [
    "# Import followers from CSV file\n",
    "\n",
    "Uncomment and execute this cell only when you prefer to import a previously generated followers files instead of extracting it again from Instagram."
   ]
  },
  {
   "cell_type": "code",
   "execution_count": null,
   "metadata": {},
   "outputs": [],
   "source": [
    "'''\n",
    "path = r'your_folder\\CSVs'\n",
    "\n",
    "# Fetch all previously extracted followers files in the folder\n",
    "os.chdir(path)\n",
    "\n",
    "arquivos = []\n",
    "\n",
    "for arquivo in os.listdir():\n",
    "    if 'df_followers' in arquivo:\n",
    "        arquivos.append(arquivo)\n",
    "arquivos.sort()\n",
    "\n",
    "# Reads each file in the list and inserts its data into the followers table in SQLite\n",
    "os.chdir(r'your_folder')\n",
    "\n",
    "for arquivo in arquivos:\n",
    "    data_atualizacao = arquivo[13:17] + '-'+arquivo[18:20] + '-'+arquivo[21:23]\n",
    "\n",
    "    print(data_atualizacao, ' - ', arquivo) \n",
    "    \n",
    "    df_followers = pd.read_csv(path_raiz + '\\\\CSVs\\\\' + arquivo, sep=';')\n",
    "\n",
    "    lite.atualiza_followers(df_followers, data_atualizacao)\n",
    "'''"
   ]
  },
  {
   "cell_type": "markdown",
   "metadata": {},
   "source": [
    "# Send welcome message"
   ]
  },
  {
   "cell_type": "markdown",
   "metadata": {},
   "source": [
    "### Create list of new followers."
   ]
  },
  {
   "cell_type": "code",
   "execution_count": null,
   "metadata": {
    "scrolled": true
   },
   "outputs": [],
   "source": [
    "boas_vindas = {}\n",
    "\n",
    "conn = sqlite3.connect('instagram.db')\n",
    "cur = conn.cursor()\n",
    " \n",
    "# https://www.sqlite.org/lang_select.html\n",
    "sqlstr = \"\"\"select count(1)\n",
    "            from followers f \n",
    "            where f.welcome is null\"\"\"\n",
    "    \n",
    "# https://www.sqlite.org/lang_select.html\n",
    "sqlstr = \"\"\"select \n",
    "                f.username, \n",
    "                CASE when f.full_name is null then f.username else f.full_name end as convites \n",
    "            from followers f \n",
    "            where f.welcome is null and data_saida is null\n",
    "            \"\"\"\n",
    "\n",
    "for row in cur.execute(sqlstr):\n",
    "    boas_vindas[str(row[0])] = row[1]\n",
    "\n",
    "cur.close()\n",
    "\n",
    "print('List generated at', datetime.today())\n",
    "boas_vindas"
   ]
  },
  {
   "cell_type": "markdown",
   "metadata": {},
   "source": [
    "### Send messages"
   ]
  },
  {
   "cell_type": "code",
   "execution_count": null,
   "metadata": {},
   "outputs": [],
   "source": [
    "from instabot import Bot\n",
    "\n",
    "print('Starting sending welcome at', datetime.today()) \n",
    "tempo_de_espera = 1\n",
    "qtde = len(boas_vindas)\n",
    "count = 0\n",
    "\n",
    "# Message\n",
    "text = 'Hello, {}!\\nWelcome to our page.\\nWe prepare our posts with great care.\\nI love receiving comments on posts and look forward to yours. Send it there, okay?\\nGratitude 🌹💖🙌'\n",
    "\n",
    "# Creating bot varible.\n",
    "bot = Bot()\n",
    "\n",
    "# Login using bot.\n",
    "print('Logging in')\n",
    "bot.login(username=usr, password=psw)\n",
    "\n",
    "for k, v in boas_vindas.items(): \n",
    "    count += 1 \n",
    "    \n",
    "    # Program to send message\n",
    "    # on Instagram using Python.\n",
    "    # para caso dê erro de JSON. Solução de Adarsh chaurasia\n",
    "    # https://stackoverflow.com/questions/66794193/cant-login-with-instabot\n",
    "    # https://github.com/ohld/igbot/blob/d68b55015322898c3842c92dcc5989581043252e/examples/welcome_message.py\n",
    "    # https://codingshiksha.com/python/python-3-instagram-api-script-to-send-direct-messages-to-multiple-usernames-using-instabot-module-full-project-for-beginners/\n",
    "\n",
    "    # Sending messages\n",
    "    status = bot.send_message(text.format(v), k)\n",
    "    print(count, 'of', qtde, 'user:', k,  '- status:', status, 'sent at', datetime.today())\n",
    "\n",
    "    # Update status to welcomed\n",
    "    if status == False: break \n",
    "    else: \n",
    "        update_registro = \"UPDATE new_followers SET welcome = 1 where username = '%s'\"\n",
    "\n",
    "        conn = sqlite3.connect('instagram.db')\n",
    "        cur = conn.cursor()\n",
    "        cur.execute(update_registro %(k)) \n",
    "        conn.commit()\n",
    "        conn.close() \n",
    "    \n",
    "print('Welcome submission completed at', datetime.today()) "
   ]
  },
  {
   "cell_type": "markdown",
   "metadata": {},
   "source": [
    "# Extracting posts"
   ]
  },
  {
   "cell_type": "code",
   "execution_count": null,
   "metadata": {},
   "outputs": [],
   "source": [
    "df_my_posts = fi.extrai_posts_instagrapi(path_raiz, conta)\n",
    "len(df_my_posts)\n",
    "\n",
    "# Inserting posts at posts table\n",
    "lite.insere_posts(df_my_posts)"
   ]
  },
  {
   "cell_type": "markdown",
   "metadata": {},
   "source": [
    "# Import posts from CSV file\n",
    "\n",
    "Uncomment and execute this cell only when you prefer to import a previously generated posts file instead of extracting it again from Instagram."
   ]
  },
  {
   "cell_type": "code",
   "execution_count": null,
   "metadata": {},
   "outputs": [],
   "source": [
    "'''\n",
    "df_my_posts = pd.read_csv(path_raiz + '\\CSVs\\df_my_posts_2022-04-25 180849.csv', sep=';') \n",
    "df_my_posts.drop(['Unnamed: 0'], axis=1, inplace = True) \n",
    "df_my_posts['criado_em_post'] = pd.to_datetime(df_my_posts['criado_em_post']) \n",
    "#df_my_posts.info()\n",
    "df_my_posts.head()\n",
    "'''"
   ]
  },
  {
   "cell_type": "markdown",
   "metadata": {},
   "source": [
    "# Export posts"
   ]
  },
  {
   "cell_type": "code",
   "execution_count": null,
   "metadata": {},
   "outputs": [],
   "source": [
    "# Filtering only posts created after a cutoff date\n",
    "filtro1_posts = df_my_posts['criado_em_post'] >= data_de_corte \n",
    "\n",
    "# Extract posts\n",
    "my_posts_temp = list(df_my_posts[filtro1_posts]['post_id'])\n",
    "len(my_posts_temp)\n",
    "my_posts_temp[0:2]"
   ]
  },
  {
   "cell_type": "markdown",
   "metadata": {},
   "source": [
    "# Export comments"
   ]
  },
  {
   "cell_type": "code",
   "execution_count": null,
   "metadata": {},
   "outputs": [],
   "source": [
    "df_my_comments = fi.extrai_comentarios_instagrapi(path_raiz, my_posts_temp)\n",
    "len(df_my_comments)\n",
    "df_my_comments.head()\n",
    "#lite.insere_posts(df_my_comments)"
   ]
  },
  {
   "cell_type": "markdown",
   "metadata": {},
   "source": [
    "# Import comments from CSV file\n",
    "\n",
    "Uncomment and execute this cell only when you prefer to import a previously generated comments file instead of extracting it again from Instagram."
   ]
  },
  {
   "cell_type": "code",
   "execution_count": null,
   "metadata": {},
   "outputs": [],
   "source": [
    "'''\n",
    "df_my_comments = pd.read_csv(path_raiz + 'your_comments_file.csv', sep=';') \n",
    "df_my_comments.drop(['Unnamed: 0'], axis=1, inplace = True) \n",
    "df_my_comments.head()\n",
    "'''"
   ]
  },
  {
   "cell_type": "markdown",
   "metadata": {},
   "source": [
    "# Extract likes"
   ]
  },
  {
   "cell_type": "code",
   "execution_count": null,
   "metadata": {},
   "outputs": [],
   "source": [
    "df_my_likes = fi.extrai_curtidas_instagrapi(path_raiz, my_posts_temp)\n",
    "len(df_my_likes)\n",
    "df_my_likes.head()"
   ]
  },
  {
   "cell_type": "markdown",
   "metadata": {},
   "source": [
    "# Import likes from CSV file\n",
    "\n",
    "Uncomment and execute this cell only when you prefer to import a previously generated likes file instead of extracting it again from Instagram."
   ]
  },
  {
   "cell_type": "code",
   "execution_count": null,
   "metadata": {},
   "outputs": [],
   "source": [
    "''' \n",
    "df_my_likes = pd.read_csv(path_raiz + 'your_likes_file.csv', sep=';') \n",
    "df_my_likes.drop(['Unnamed: 0'], axis=1, inplace = True) \n",
    "df_my_likes.head() \n",
    "'''"
   ]
  },
  {
   "cell_type": "markdown",
   "metadata": {},
   "source": [
    "# Finds followed without interaction with the page"
   ]
  },
  {
   "cell_type": "code",
   "execution_count": null,
   "metadata": {},
   "outputs": [],
   "source": [
    "df_followings['pk'] = pd.to_numeric(df_followings['pk'])\n",
    "df_my_likes = df_my_likes.rename(columns={'follower_pk':'pk'})\n",
    "df_my_comments = df_my_comments.rename(columns={'list_follower_pk':'pk'})\n",
    "\n",
    "df_followings_s_like = df_followings[~df_followings['pk'].isin(df_my_likes['pk'])]\n",
    "df_followings_s_like_s_comment = df_followings_s_like[~df_followings_s_like['pk'].isin(df_my_comments['pk'])]\n",
    "\n",
    "data_hora_atual = str(datetime.today()).replace(\":\",\"\").replace(\".\",\"\")[:17]    \n",
    "df_followings_s_like_s_comment.to_csv(path_raiz + '\\\\CSVs\\\\df_followings_s_like_s_comment_' + data_hora_atual + '.csv', encoding='utf-8', sep=';', decimal=',') "
   ]
  },
  {
   "cell_type": "markdown",
   "metadata": {},
   "source": [
    "# Unfollow user\n",
    "\n",
    "Some of the techniques used are to avoid Instagram blocks. Instagram blocks the page for a while and requires a new login when there are many unfollows in a short period of time, for example."
   ]
  },
  {
   "cell_type": "code",
   "execution_count": null,
   "metadata": {},
   "outputs": [],
   "source": [
    "excluir = ['12345678901'\n",
    "    ]\n",
    "\n",
    "print('Starting unfollow at', datetime.today()) \n",
    "tempo_de_espera = 65 #(with 85 it works fine)\n",
    "descanso = 15 # in minutes\n",
    "count = 0 \n",
    "de = 0\n",
    "ate = len(excluir)\n",
    "\n",
    "for i in excluir:\n",
    "    count += 1 \n",
    "    qtde = ate - de\n",
    "    \n",
    "    try:\n",
    "        status = fi.deixa_de_seguir(i) \n",
    "    except: # AssertionError as error:\n",
    "        status = None \n",
    "\n",
    "    print(count, 'de', qtde, '- id:', i,  '- status:', status)\n",
    "    if status == False: break \n",
    "        \n",
    "    if count == qtde: print('Até a próxima pe pe pe pe pessoal') \n",
    "    elif count % 50 == 0:\n",
    "        print(\"It's\", datetime.today(), \". Let's wait\", descanso*4, 'minutes.\\n')\n",
    "        time.sleep(descanso * 4 * 60)\n",
    "    elif count % 17 == 0:\n",
    "        print(\"It's\", datetime.today(), \". Let's wait\", descanso, 'minutes.\\n')\n",
    "        time.sleep(descanso * 60) \n",
    "    elif count != qtde: \n",
    "        espera = tempo_de_espera * (1 + randint(-50,30)/100) \n",
    "        print('Waiting', round(espera, 2), 'seconds')\n",
    "        time.sleep(espera)\n",
    "\n",
    "\n",
    "print('Unfollow completed at', datetime.today()) "
   ]
  },
  {
   "cell_type": "markdown",
   "metadata": {},
   "source": [
    "\n"
   ]
  }
 ],
 "metadata": {
  "kernelspec": {
   "display_name": "Python 3.8.8 ('base')",
   "language": "python",
   "name": "python3"
  },
  "language_info": {
   "codemirror_mode": {
    "name": "ipython",
    "version": 3
   },
   "file_extension": ".py",
   "mimetype": "text/x-python",
   "name": "python",
   "nbconvert_exporter": "python",
   "pygments_lexer": "ipython3",
   "version": "3.8.5"
  },
  "vscode": {
   "interpreter": {
    "hash": "2a6fd26d117033d2999408d4ed728c87e3e84a1c4bc4102f94b74a9a53f6787c"
   }
  }
 },
 "nbformat": 4,
 "nbformat_minor": 4
}
